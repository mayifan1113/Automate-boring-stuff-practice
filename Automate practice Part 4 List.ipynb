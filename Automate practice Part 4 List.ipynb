{
 "cells": [
  {
   "cell_type": "code",
   "execution_count": 6,
   "metadata": {},
   "outputs": [
    {
     "name": "stdout",
     "output_type": "stream",
     "text": [
      "enter the name of your cats\n",
      "yellow\n",
      "enter the name of your cats\n",
      "moew\n",
      "enter the name of your cats\n",
      "\n",
      "names of the cats are:\n",
      "yellow\n",
      "moew\n"
     ]
    }
   ],
   "source": [
    "# name all your cats\n",
    "cat_name = []\n",
    "while True:\n",
    "    print('enter the name of your cats')\n",
    "    name = input()\n",
    "    if name == '':\n",
    "        break\n",
    "    else:\n",
    "        cat_name = cat_name + [name]\n",
    "print('names of the cats are:')\n",
    "for i in cat_name:\n",
    "    print(i)"
   ]
  },
  {
   "cell_type": "code",
   "execution_count": 7,
   "metadata": {},
   "outputs": [
    {
     "name": "stdout",
     "output_type": "stream",
     "text": [
      "['yellow', 'moew']\n"
     ]
    }
   ],
   "source": [
    "print(cat_name)"
   ]
  },
  {
   "cell_type": "code",
   "execution_count": 8,
   "metadata": {},
   "outputs": [
    {
     "name": "stdout",
     "output_type": "stream",
     "text": [
      "enter the name of your cats\n",
      "e\n",
      "enter the name of your cats\n",
      "q\n",
      "enter the name of your cats\n",
      "\n",
      "names of the cats are:\n",
      "['e', 'q']\n"
     ]
    }
   ],
   "source": [
    "# name all your cats\n",
    "cat_name = []\n",
    "while True:\n",
    "    print('enter the name of your cats')\n",
    "    name = input()\n",
    "    if name == '':\n",
    "        break\n",
    "    else:\n",
    "        cat_name = cat_name + [name]\n",
    "print('names of the cats are:')\n",
    "print(cat_name)"
   ]
  },
  {
   "cell_type": "code",
   "execution_count": 11,
   "metadata": {},
   "outputs": [
    {
     "name": "stdout",
     "output_type": "stream",
     "text": [
      "well well well, let us put some name here:\n",
      "pooka\n",
      "wow you got this! pooka is on the list!\n"
     ]
    }
   ],
   "source": [
    "#let user to check if the name is on the pet's name list\n",
    "pet_list = ['pooka','howdy','meowmeow','wow','kitty']\n",
    "print('well well well, let us put some name here:')\n",
    "name = input()\n",
    "if name in pet_list:\n",
    "    print('wow you got this! ' + name + ' is on the list!')\n",
    "else:\n",
    "    print('whatever~~')"
   ]
  },
  {
   "cell_type": "code",
   "execution_count": 2,
   "metadata": {},
   "outputs": [
    {
     "name": "stdout",
     "output_type": "stream",
     "text": [
      "very doubtful\n"
     ]
    }
   ],
   "source": [
    "# magical 8 balls\n",
    "#'\\' you can use it reorganize your lines, as it could be used as 'continue the line'\n",
    "import random\n",
    "messages = ['wow',\\\n",
    "            'yes definitely'\\\n",
    "            ,'my reply is no','very doubtful',\\\n",
    "            'reply hazy try again']\n",
    "print(messages[random.randint(0,len(messages)-1)])"
   ]
  },
  {
   "cell_type": "code",
   "execution_count": 19,
   "metadata": {},
   "outputs": [],
   "source": [
    "# The following lines help to install the dark themes\n",
    "# !pip install jupyterthemes\n",
    "!jt -t chesterish"
   ]
  },
  {
   "cell_type": "code",
   "execution_count": 2,
   "metadata": {},
   "outputs": [],
   "source": [
    "grid = [['.', '.', '.', '.', '.', '.'],\n",
    "        ['.', '0', '0', '.', '.', '.'],\n",
    "        ['0', '0', '0', '0', '.', '.'],\n",
    "        ['0', '0', '0', '0', '0', '.'],\n",
    "        ['.', '0', '0', '0', '0', '0'],\n",
    "        ['0', '0', '0', '0', '0', '.'],\n",
    "        ['0', '0', '0', '0', '.', '.'],\n",
    "        ['.', '0', '0', '.', '.', '.'],\n",
    "        ['.', '.', '.', '.', '.', '.']]"
   ]
  },
  {
   "cell_type": "code",
   "execution_count": 12,
   "metadata": {},
   "outputs": [
    {
     "name": "stdout",
     "output_type": "stream",
     "text": [
      "..00.00..\n",
      ".0000000.\n",
      ".0000000.\n",
      "..00000..\n",
      "...000...\n",
      "....0....\n"
     ]
    }
   ],
   "source": [
    "for i in range(len(grid[0])):\n",
    "    for j in range(len(grid)):\n",
    "        print(grid[j][i], end ='')\n",
    "    print('')\n"
   ]
  }
 ],
 "metadata": {
  "kernelspec": {
   "display_name": "Python 3",
   "language": "python",
   "name": "python3"
  },
  "language_info": {
   "codemirror_mode": {
    "name": "ipython",
    "version": 3
   },
   "file_extension": ".py",
   "mimetype": "text/x-python",
   "name": "python",
   "nbconvert_exporter": "python",
   "pygments_lexer": "ipython3",
   "version": "3.7.1"
  }
 },
 "nbformat": 4,
 "nbformat_minor": 2
}
