{
 "cells": [
  {
   "cell_type": "code",
   "execution_count": 6,
   "metadata": {},
   "outputs": [
    {
     "name": "stdout",
     "output_type": "stream",
     "text": [
      "enter the name of your cats\n",
      "yellow\n",
      "enter the name of your cats\n",
      "moew\n",
      "enter the name of your cats\n",
      "\n",
      "names of the cats are:\n",
      "yellow\n",
      "moew\n"
     ]
    }
   ],
   "source": [
    "# name all your cats\n",
    "cat_name = []\n",
    "while True:\n",
    "    print('enter the name of your cats')\n",
    "    name = input()\n",
    "    if name == '':\n",
    "        break\n",
    "    else:\n",
    "        cat_name = cat_name + [name]\n",
    "print('names of the cats are:')\n",
    "for i in cat_name:\n",
    "    print(i)"
   ]
  },
  {
   "cell_type": "code",
   "execution_count": 7,
   "metadata": {},
   "outputs": [
    {
     "name": "stdout",
     "output_type": "stream",
     "text": [
      "['yellow', 'moew']\n"
     ]
    }
   ],
   "source": [
    "print(cat_name)"
   ]
  },
  {
   "cell_type": "code",
   "execution_count": 8,
   "metadata": {},
   "outputs": [
    {
     "name": "stdout",
     "output_type": "stream",
     "text": [
      "enter the name of your cats\n",
      "e\n",
      "enter the name of your cats\n",
      "q\n",
      "enter the name of your cats\n",
      "\n",
      "names of the cats are:\n",
      "['e', 'q']\n"
     ]
    }
   ],
   "source": [
    "# name all your cats\n",
    "cat_name = []\n",
    "while True:\n",
    "    print('enter the name of your cats')\n",
    "    name = input()\n",
    "    if name == '':\n",
    "        break\n",
    "    else:\n",
    "        cat_name = cat_name + [name]\n",
    "print('names of the cats are:')\n",
    "print(cat_name)"
   ]
  },
  {
   "cell_type": "code",
   "execution_count": 11,
   "metadata": {},
   "outputs": [
    {
     "name": "stdout",
     "output_type": "stream",
     "text": [
      "well well well, let us put some name here:\n",
      "pooka\n",
      "wow you got this! pooka is on the list!\n"
     ]
    }
   ],
   "source": [
    "#let user to check if the name is on the pet's name list\n",
    "pet_list = ['pooka','howdy','meowmeow','wow','kitty']\n",
    "print('well well well, let us put some name here:')\n",
    "name = input()\n",
    "if name in pet_list:\n",
    "    print('wow you got this! ' + name + ' is on the list!')\n",
    "else:\n",
    "    print('whatever~~')"
   ]
  },
  {
   "cell_type": "code",
   "execution_count": 2,
   "metadata": {},
   "outputs": [
    {
     "name": "stdout",
     "output_type": "stream",
     "text": [
      "very doubtful\n"
     ]
    }
   ],
   "source": [
    "# magical 8 balls\n",
    "#'\\' you can use it reorganize your lines, as it could be used as 'continue the line'\n",
    "import random\n",
    "messages = ['wow',\\\n",
    "            'yes definitely'\\\n",
    "            ,'my reply is no','very doubtful',\\\n",
    "            'reply hazy try again']\n",
    "print(messages[random.randint(0,len(messages)-1)])"
   ]
  },
  {
   "cell_type": "code",
   "execution_count": 19,
   "metadata": {},
   "outputs": [],
   "source": [
    "# The following lines help to install the dark themes\n",
    "# !pip install jupyterthemes\n",
    "!jt -t chesterish"
   ]
  },
  {
   "cell_type": "code",
   "execution_count": 2,
   "metadata": {},
   "outputs": [],
   "source": [
    "grid = [['.', '.', '.', '.', '.', '.'],\n",
    "        ['.', '0', '0', '.', '.', '.'],\n",
    "        ['0', '0', '0', '0', '.', '.'],\n",
    "        ['0', '0', '0', '0', '0', '.'],\n",
    "        ['.', '0', '0', '0', '0', '0'],\n",
    "        ['0', '0', '0', '0', '0', '.'],\n",
    "        ['0', '0', '0', '0', '.', '.'],\n",
    "        ['.', '0', '0', '.', '.', '.'],\n",
    "        ['.', '.', '.', '.', '.', '.']]"
   ]
  },
  {
   "cell_type": "code",
   "execution_count": 6,
   "metadata": {},
   "outputs": [
    {
     "name": "stdout",
     "output_type": "stream",
     "text": [
      "..00.00..\n",
      ".0000000.\n",
      ".0000000.\n",
      "..00000..\n",
      "...000...\n",
      "....0....\n"
     ]
    }
   ],
   "source": [
    "for i in range(len(grid[0])):\n",
    "    for j in range(len(grid)):\n",
    "        print(grid[j][i], end ='')\n",
    "    print('')\n"
   ]
  },
  {
   "cell_type": "code",
   "execution_count": 25,
   "metadata": {},
   "outputs": [],
   "source": [
    "#a draft of the part 6 practice\n",
    "table_data = [['apples','oragnes','cherries','banana'],\n",
    "             ['Alice','Bob','Carol','David'],\n",
    "             ['dogs','cats','moose','goose']]"
   ]
  },
  {
   "cell_type": "code",
   "execution_count": 36,
   "metadata": {},
   "outputs": [],
   "source": [
    "'''format without transposing'''\n",
    "def print_table(tbl):\n",
    "    col_width = [0]*len(tbl)\n",
    "    for j in range(len(tbl)):\n",
    "        for i in range(len(tbl[0])):\n",
    "            if col_width[j] < len(tbl[j][i]):\n",
    "                col_width[j] = len(tbl[j][i])\n",
    "    for j in range(len(tbl)):\n",
    "        for i in range(len(tbl[0])):       \n",
    "            print(tbl[j][i].rjust(max(col_width)),end = ' ')\n",
    "        print('')"
   ]
  },
  {
   "cell_type": "code",
   "execution_count": 37,
   "metadata": {},
   "outputs": [
    {
     "name": "stdout",
     "output_type": "stream",
     "text": [
      "  apples  oragnes cherries   banana \n",
      "   Alice      Bob    Carol    David \n",
      "    dogs     cats    moose    goose \n"
     ]
    }
   ],
   "source": [
    "print_table(table_data)"
   ]
  },
  {
   "cell_type": "code",
   "execution_count": 104,
   "metadata": {},
   "outputs": [],
   "source": [
    "def print_table(tbl):\n",
    "    col_width = [0]*len(tbl)\n",
    "    '''find the longest string on each column'''\n",
    "    for j in range(len(tbl)):\n",
    "        for i in range(len(tbl[0])):\n",
    "            if col_width[j] < len(tbl[j][i]):\n",
    "                print(col_width)\n",
    "                print(str(j+1) + ' ' +  str(i+1))\n",
    "                col_width[j] = len(tbl[j][i])\n",
    "    '''transpose the table'''\n",
    "    for i in range(len(tbl[0])):\n",
    "        for j in range(len(tbl)):       \n",
    "            print(tbl[j][i].rjust(col_width[j]), end = ' ' + str(j+1) + ' * ' + str(i+1) + ' ')\n",
    "        print('')"
   ]
  },
  {
   "cell_type": "code",
   "execution_count": 105,
   "metadata": {},
   "outputs": [
    {
     "name": "stdout",
     "output_type": "stream",
     "text": [
      "[0, 0, 0]\n",
      "1 1\n",
      "[6, 0, 0]\n",
      "1 2\n",
      "[7, 0, 0]\n",
      "1 3\n",
      "[8, 0, 0]\n",
      "2 1\n",
      "[8, 5, 0]\n",
      "3 1\n",
      "[8, 5, 4]\n",
      "3 3\n",
      "  apples 1 * 1 Alice 2 * 1  dogs 3 * 1 \n",
      " oragnes 1 * 2   Bob 2 * 2  cats 3 * 2 \n",
      "cherries 1 * 3 Carol 2 * 3 moose 3 * 3 \n",
      "  banana 1 * 4 David 2 * 4 goose 3 * 4 \n"
     ]
    }
   ],
   "source": [
    "print_table(table_data)"
   ]
  },
  {
   "cell_type": "code",
   "execution_count": null,
   "metadata": {},
   "outputs": [],
   "source": []
  }
 ],
 "metadata": {
  "kernelspec": {
   "display_name": "Python 3",
   "language": "python",
   "name": "python3"
  },
  "language_info": {
   "codemirror_mode": {
    "name": "ipython",
    "version": 3
   },
   "file_extension": ".py",
   "mimetype": "text/x-python",
   "name": "python",
   "nbconvert_exporter": "python",
   "pygments_lexer": "ipython3",
   "version": "3.7.1"
  }
 },
 "nbformat": 4,
 "nbformat_minor": 2
}
