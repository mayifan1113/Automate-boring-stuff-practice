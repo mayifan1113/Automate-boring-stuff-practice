{
 "cells": [
  {
   "cell_type": "code",
   "execution_count": 3,
   "metadata": {},
   "outputs": [],
   "source": [
    "def is_phone_number(text):\n",
    "    if len(text) != 12:\n",
    "        return False\n",
    "    elif text[3] != '-' or text[7] != '-':\n",
    "        return False\n",
    "    for i in range(3):\n",
    "        if not text[i].isdecimal():\n",
    "            return False\n",
    "    for i in range(4,7):\n",
    "        if not text[i].isdecimal():\n",
    "            return False\n",
    "    for i in range(8,12):\n",
    "        if not text[i].isdecimal():\n",
    "            return False\n",
    "    return 'it is a phone number'"
   ]
  },
  {
   "cell_type": "code",
   "execution_count": 5,
   "metadata": {},
   "outputs": [
    {
     "data": {
      "text/plain": [
       "'it is a phone number'"
      ]
     },
     "execution_count": 5,
     "metadata": {},
     "output_type": "execute_result"
    }
   ],
   "source": [
    "is_phone_number('209-439-1753')"
   ]
  },
  {
   "cell_type": "code",
   "execution_count": 2,
   "metadata": {},
   "outputs": [],
   "source": [
    "# import the module for regex\n",
    "import re"
   ]
  },
  {
   "cell_type": "code",
   "execution_count": 10,
   "metadata": {},
   "outputs": [
    {
     "name": "stdout",
     "output_type": "stream",
     "text": [
      "phone number found:666-666-6666\n"
     ]
    }
   ],
   "source": [
    "#create a regex for US phone number\n",
    "phone_num_regex = re.compile(r'\\d{3}-\\d{3}-\\d{4}')\n",
    "#let us search for the phone number\n",
    "sth = phone_num_regex.search('blurb-blarb-blurb-blarb****the number is 666-666-6666')\n",
    "print('phone number found:' + sth.group())"
   ]
  },
  {
   "cell_type": "code",
   "execution_count": 12,
   "metadata": {},
   "outputs": [
    {
     "name": "stdout",
     "output_type": "stream",
     "text": [
      "phone number found:666\n"
     ]
    },
    {
     "data": {
      "text/plain": [
       "'666-6666'"
      ]
     },
     "execution_count": 12,
     "metadata": {},
     "output_type": "execute_result"
    }
   ],
   "source": [
    "#use ()to group regex\n",
    "#'''separate the regional code from rest of the phone number'''\n",
    "phone_num_regex = re.compile(r'(\\d{3})-(\\d{3}-\\d{4})')\n",
    "sth = phone_num_regex.search('blurb-blarb-blurb-blarb****the number is 666-666-6666')\n",
    "#'''when you group by section 1 e.g. group(1), it will only search for regional code'''\n",
    "print('phone number found:' + sth.group(1))\n",
    "sth.group(2)"
   ]
  },
  {
   "cell_type": "code",
   "execution_count": 14,
   "metadata": {},
   "outputs": [
    {
     "data": {
      "text/plain": [
       "('666', '666-6666')"
      ]
     },
     "execution_count": 14,
     "metadata": {},
     "output_type": "execute_result"
    }
   ],
   "source": [
    "'''if you want to get the regex for each section, use groups!'''\n",
    "sth.groups()\n",
    "'''GROUPS() will return a tuple contains multiple strings'''"
   ]
  },
  {
   "cell_type": "code",
   "execution_count": 15,
   "metadata": {},
   "outputs": [
    {
     "data": {
      "text/plain": [
       "'Bob'"
      ]
     },
     "execution_count": 15,
     "metadata": {},
     "output_type": "execute_result"
    }
   ],
   "source": [
    "#search for 2 or more regex\n",
    "hero_regex = re.compile(r'Alice|Bob')\n",
    "sth_1 = hero_regex.search('Bob is mad at Alice.')\n",
    "sth_1.group()"
   ]
  },
  {
   "cell_type": "code",
   "execution_count": 17,
   "metadata": {},
   "outputs": [
    {
     "data": {
      "text/plain": [
       "'Alice'"
      ]
     },
     "execution_count": 17,
     "metadata": {},
     "output_type": "execute_result"
    }
   ],
   "source": [
    "#group will return the first regex found in the string\n",
    "hero_regex = re.compile(r'Alice|Bob')\n",
    "sth_2 = hero_regex.search('Alice is mad at Bob.')\n",
    "sth_2.group()"
   ]
  },
  {
   "cell_type": "code",
   "execution_count": 19,
   "metadata": {},
   "outputs": [
    {
     "data": {
      "text/plain": [
       "'god'"
      ]
     },
     "execution_count": 19,
     "metadata": {},
     "output_type": "execute_result"
    }
   ],
   "source": [
    "#if the searching criteria have something in common\n",
    "#e.g. god, goodess, godmother\n",
    "god_regex = re.compile(r'god(|ess|mother)')\n",
    "sth = god_regex.search('oh my god, she is my godess!!! Let me tell my godmother.')\n",
    "sth.group()"
   ]
  },
  {
   "cell_type": "code",
   "execution_count": 20,
   "metadata": {},
   "outputs": [
    {
     "data": {
      "text/plain": [
       "'batman'"
      ]
     },
     "execution_count": 20,
     "metadata": {},
     "output_type": "execute_result"
    }
   ],
   "source": [
    "#how to make a string optional\n",
    "bat_regex = re.compile(r'bat(wo)?man')\n",
    "sth = bat_regex.search('batman is a superhero!')\n",
    "#for the example above, whether 'wo' is not showing, sth still return batman.\n",
    "sth.group()"
   ]
  },
  {
   "cell_type": "code",
   "execution_count": 21,
   "metadata": {},
   "outputs": [
    {
     "data": {
      "text/plain": [
       "'batwowowowowowowowowowowoman'"
      ]
     },
     "execution_count": 21,
     "metadata": {},
     "output_type": "execute_result"
    }
   ],
   "source": [
    "#what if you want to find sth repeatedly shows in a string\n",
    "bat_regex = re.compile(r'bat(wo)*man')\n",
    "sth = bat_regex.search('batwowowowowowowowowowowoman is amazing!!!')\n",
    "sth.group()"
   ]
  },
  {
   "cell_type": "code",
   "execution_count": 22,
   "metadata": {},
   "outputs": [
    {
     "data": {
      "text/plain": [
       "'batwowowowowowowowowowowoman'"
      ]
     },
     "execution_count": 22,
     "metadata": {},
     "output_type": "execute_result"
    }
   ],
   "source": [
    "#to make sure sth is match at least once, use '+'\n",
    "bat_regex = re.compile(r'bat(wo)+man')\n",
    "sth = bat_regex.search('batwowowowowowowowowowowoman is amazing!!!')\n",
    "sth.group()"
   ]
  },
  {
   "cell_type": "code",
   "execution_count": 24,
   "metadata": {},
   "outputs": [
    {
     "data": {
      "text/plain": [
       "True"
      ]
     },
     "execution_count": 24,
     "metadata": {},
     "output_type": "execute_result"
    }
   ],
   "source": [
    "#what if there is zero match?\n",
    "bat_regex = re.compile(r'bat(wo)+man')\n",
    "sth = bat_regex.search('batman is amazing!!!')\n",
    "sth == None"
   ]
  },
  {
   "cell_type": "code",
   "execution_count": 26,
   "metadata": {},
   "outputs": [
    {
     "data": {
      "text/plain": [
       "'HaHaHaHa'"
      ]
     },
     "execution_count": 26,
     "metadata": {},
     "output_type": "execute_result"
    }
   ],
   "source": [
    "#if you want to find sth repeating multiple times, use{}\n",
    "# e.g. (Ha){3} equals to (Ha)Ha)(Ha)\n",
    "ha_regex = re.compile(r'(Ha){4}')\n",
    "sth = ha_regex.search('HaHaHaHaHa')\n",
    "sth.group()"
   ]
  },
  {
   "cell_type": "code",
   "execution_count": 27,
   "metadata": {},
   "outputs": [
    {
     "data": {
      "text/plain": [
       "'HaHaHaHa'"
      ]
     },
     "execution_count": 27,
     "metadata": {},
     "output_type": "execute_result"
    }
   ],
   "source": [
    "#greedy greedy {}!!!\n",
    "#if {2,4} HaHa and HaHaHaHa are both qualified, sth will return the longest matched string\n",
    "ha_regex = re.compile(r'(Ha){2,4}')\n",
    "sth = ha_regex.search('HaHaHaHaHa')\n",
    "sth.group()"
   ]
  },
  {
   "cell_type": "code",
   "execution_count": 28,
   "metadata": {},
   "outputs": [
    {
     "data": {
      "text/plain": [
       "'HaHa'"
      ]
     },
     "execution_count": 28,
     "metadata": {},
     "output_type": "execute_result"
    }
   ],
   "source": [
    "#to avoid 'greedy thing', add a ?, then it will return the shortest matched string instead\n",
    "ha_regex = re.compile(r'(Ha){2,4}?')\n",
    "sth = ha_regex.search('HaHaHaHaHa')\n",
    "sth.group()"
   ]
  },
  {
   "cell_type": "code",
   "execution_count": 31,
   "metadata": {},
   "outputs": [
    {
     "data": {
      "text/plain": [
       "[('2', '3', '4'), ('1', '2', '3')]"
      ]
     },
     "execution_count": 31,
     "metadata": {},
     "output_type": "execute_result"
    }
   ],
   "source": [
    "#use findall() to search all the qualified criteria\n",
    "#findall() will return all the matched strings and put it in a list\n",
    "phone_num_regex = re.compile(r'(\\d){3}-(\\d){3}-(\\d){4}')\n",
    "phone_num_regex.findall('tel: 222-333-4444 and cell: 111-222-3333')"
   ]
  },
  {
   "cell_type": "code",
   "execution_count": 35,
   "metadata": {},
   "outputs": [
    {
     "data": {
      "text/plain": [
       "[('222', '333', '4444'), ('111', '222', '3333')]"
      ]
     },
     "execution_count": 35,
     "metadata": {},
     "output_type": "execute_result"
    }
   ],
   "source": [
    "#if there are grouping going on\n",
    "#it will return a list of tuples contain \n",
    "phone_num_regex = re.compile(r'(\\d\\d\\d)-(\\d\\d\\d)-(\\d\\d\\d\\d)')\n",
    "phone_num_regex.findall('tel: 222-333-4444 and cell: 111-222-3333')"
   ]
  },
  {
   "cell_type": "code",
   "execution_count": 40,
   "metadata": {},
   "outputs": [
    {
     "data": {
      "text/plain": [
       "['12 apples', '3 peppers', '9 chicken_wings']"
      ]
     },
     "execution_count": 40,
     "metadata": {},
     "output_type": "execute_result"
    }
   ],
   "source": [
    "#find a matched combination of number, letters and space\n",
    "list_regex = re.compile(r'\\d+\\s\\w+')\n",
    "list_regex.findall('we\\'ve bought the following items: 12 apples, 3 peppers, 9 chicken_wings')"
   ]
  },
  {
   "cell_type": "code",
   "execution_count": 41,
   "metadata": {},
   "outputs": [
    {
     "data": {
      "text/plain": [
       "['w', 'h', 't', ' ', 's', ' ', 'g', 'n', 'g', ' ', 'n', '?', '?', '?']"
      ]
     },
     "execution_count": 41,
     "metadata": {},
     "output_type": "execute_result"
    }
   ],
   "source": [
    "#define your own criteria\n",
    "#the following criteria helps return all the non-vowel letters ( ^ means not)\n",
    "vowel_regex = re.compile(r'[^AEIOUaeiou]')\n",
    "vowel_regex.findall('what is going on???')"
   ]
  },
  {
   "cell_type": "code",
   "execution_count": 45,
   "metadata": {},
   "outputs": [
    {
     "data": {
      "text/plain": [
       "True"
      ]
     },
     "execution_count": 45,
     "metadata": {},
     "output_type": "execute_result"
    }
   ],
   "source": [
    "#check if the string starts from 's'\n",
    "s_regex = re.compile(r'^s')\n",
    "sth = s_regex.search('what is going on???')\n",
    "sth == None"
   ]
  },
  {
   "cell_type": "code",
   "execution_count": 47,
   "metadata": {},
   "outputs": [
    {
     "data": {
      "text/plain": [
       "False"
      ]
     },
     "execution_count": 47,
     "metadata": {},
     "output_type": "execute_result"
    }
   ],
   "source": [
    "#check if the string ends with 's'\n",
    "s_regex = re.compile(r's$')\n",
    "sth = s_regex.search('where are those apples')\n",
    "sth == None"
   ]
  },
  {
   "cell_type": "code",
   "execution_count": 48,
   "metadata": {},
   "outputs": [
    {
     "data": {
      "text/plain": [
       "True"
      ]
     },
     "execution_count": 48,
     "metadata": {},
     "output_type": "execute_result"
    }
   ],
   "source": [
    "#and you can combine those two: re.compile(r'^s$')\n",
    "#it will check if the whole string matches the regex\n",
    "s_regex = re.compile(r'^\\w$')\n",
    "sth = s_regex.search('where are those apples')\n",
    "sth == None"
   ]
  },
  {
   "cell_type": "code",
   "execution_count": 53,
   "metadata": {},
   "outputs": [
    {
     "data": {
      "text/plain": [
       "False"
      ]
     },
     "execution_count": 53,
     "metadata": {},
     "output_type": "execute_result"
    }
   ],
   "source": [
    "#and you can combine those two: re.compile(r'^s$')\n",
    "#it will check if the whole string matches the regex\n",
    "w_regex = re.compile(r'^\\w+$')\n",
    "sth = w_regex.search('where')\n",
    "sth == None"
   ]
  },
  {
   "cell_type": "code",
   "execution_count": 57,
   "metadata": {},
   "outputs": [
    {
     "data": {
      "text/plain": [
       "['ere', 'are']"
      ]
     },
     "execution_count": 57,
     "metadata": {},
     "output_type": "execute_result"
    }
   ],
   "source": [
    "#find all the strings matches the criteria\n",
    "#but '.re' only finds one letter before 're'\n",
    "g_regex = re.compile(r'.re')\n",
    "g_regex.findall('where are those apples')"
   ]
  },
  {
   "cell_type": "code",
   "execution_count": 60,
   "metadata": {},
   "outputs": [
    {
     "data": {
      "text/plain": [
       "'AI'"
      ]
     },
     "execution_count": 60,
     "metadata": {},
     "output_type": "execute_result"
    }
   ],
   "source": [
    "#general match!!!\n",
    "s_regex = re.compile(r'step 1: (.*) step 2: (.*)')\n",
    "sth = s_regex.search('step 1: AI step 2: Human')\n",
    "sth.group(1)"
   ]
  },
  {
   "cell_type": "code",
   "execution_count": 62,
   "metadata": {},
   "outputs": [
    {
     "data": {
      "text/plain": [
       "'<hey>'"
      ]
     },
     "execution_count": 62,
     "metadata": {},
     "output_type": "execute_result"
    }
   ],
   "source": [
    "greedy_regex = re.compile(r'<.*?>')\n",
    "mo = greedy_regex.search('<hey>you>')      \n",
    "mo.group()"
   ]
  },
  {
   "cell_type": "code",
   "execution_count": 64,
   "metadata": {},
   "outputs": [
    {
     "data": {
      "text/plain": [
       "'<hey>you>'"
      ]
     },
     "execution_count": 64,
     "metadata": {},
     "output_type": "execute_result"
    }
   ],
   "source": [
    "non_greedy_regex = re.compile(r'<.*>')\n",
    "mo = non_greedy_regex.search('<hey>you>')      \n",
    "mo.group()"
   ]
  },
  {
   "cell_type": "code",
   "execution_count": 66,
   "metadata": {},
   "outputs": [
    {
     "data": {
      "text/plain": [
       "'Bob'"
      ]
     },
     "execution_count": 66,
     "metadata": {},
     "output_type": "execute_result"
    }
   ],
   "source": [
    "#if you want to ignore upper and lower case\n",
    "rap = re.compile(r'bob', re.I)\n",
    "rap.search('Bob is a nice guy').group()"
   ]
  },
  {
   "cell_type": "code",
   "execution_count": 3,
   "metadata": {},
   "outputs": [
    {
     "data": {
      "text/plain": [
       "'A****** told C****** that E****** knew B****** was a double agent'"
      ]
     },
     "execution_count": 3,
     "metadata": {},
     "output_type": "execute_result"
    }
   ],
   "source": [
    "#substitude\n",
    "replace_regex = re.compile(r'Agent (\\w)\\w*')\n",
    "replace_regex.sub(r'\\1******',\n",
    "                  'Agent Alice told Agent Carol that Agent Eve knew Agent Bob was a double agent')"
   ]
  },
  {
   "cell_type": "code",
   "execution_count": 7,
   "metadata": {},
   "outputs": [],
   "source": [
    "#make a complex regex readable, you can add notes to your code\n",
    "phone_regex = re.compile(r'''(\n",
    "(\\d{3})?    #area code\n",
    "(\\s)?       #separator\n",
    ")''', re.VERBOSE)"
   ]
  },
  {
   "cell_type": "code",
   "execution_count": 10,
   "metadata": {},
   "outputs": [],
   "source": [
    "'''Project 7.15 Extract phone number and email address'''\n",
    "#step 1 create a regex for phone number\n",
    "#! pip install pyperclip\n",
    "import pyperclip, re\n",
    "phone_regex = re.compile(r'''(\n",
    "(\\d{3}|\\(\\d{3}\\))?                #area code, e.g. 510 or (510) \n",
    "(\\s|-|\\.)?                        #separator e.g. space, dash-, dot.\n",
    "(\\d{3})                           #first 3 digits \n",
    "(\\s|-|\\.)?                        #separator\n",
    "(\\d{4})                           #last 4 digits \n",
    "(\\s*(ext|x|ext\\.)\\s*(\\d{2,5}))?   #extension e.g. space ext/x/ext. space 2-5 digits code\n",
    ")''',re.VERBOSE)"
   ]
  },
  {
   "cell_type": "code",
   "execution_count": 11,
   "metadata": {},
   "outputs": [],
   "source": [
    "#step 2 create a regex for email address\n",
    "email_regex = re.compile(r'''(\n",
    "[a-zA-Z0-9._%+-]+                    #username\n",
    "@                                    #@symbol\n",
    "[a-zA-Z0-9.-]+                       #domain name\n",
    "(\\.[a-zA-Z.]{2,4})                    #dot.sth: .com, .edu.cn\n",
    ")''', re.VERBOSE )"
   ]
  },
  {
   "cell_type": "code",
   "execution_count": 16,
   "metadata": {},
   "outputs": [],
   "source": [
    "#find matches in clipboard text\n",
    "text = str(pyperclip.paste())\n",
    "matches = []\n",
    "for groups in phone_regex.findall(text):\n",
    "    phone_num = '-'.join([groups[1],groups[3],groups[5]])      #join 10 digits using -\n",
    "                                                               #group1 area code group3&5 7digits\n",
    "    if groups[8] != '':                                        #group8 extension\n",
    "        phone_num += ' x' + groups[8]\n",
    "    matches.append(phone_num)\n",
    "    \n",
    "for groups in email_regex.findall(text):\n",
    "    matches.append(groups[0])"
   ]
  },
  {
   "cell_type": "code",
   "execution_count": 17,
   "metadata": {},
   "outputs": [
    {
     "name": "stdout",
     "output_type": "stream",
     "text": [
      "copied to clipboard\n",
      "800-420-7240\n",
      "415-863-9900\n",
      "415-863-9950\n",
      "info@nostarch.com\n",
      "media@nostarch.com\n",
      "academic@nostarch.com\n",
      "info@nostarch.com\n"
     ]
    }
   ],
   "source": [
    "#copy results to the clipboard\n",
    "if len(matches) > 0:\n",
    "    pyperclip.copy('\\n'.join(matches))\n",
    "    print('copied to clipboard')\n",
    "    print('\\n'.join(matches))\n",
    "else:\n",
    "    print('no phone number found.')"
   ]
  },
  {
   "cell_type": "code",
   "execution_count": null,
   "metadata": {},
   "outputs": [],
   "source": []
  }
 ],
 "metadata": {
  "kernelspec": {
   "display_name": "Python 3",
   "language": "python",
   "name": "python3"
  },
  "language_info": {
   "codemirror_mode": {
    "name": "ipython",
    "version": 3
   },
   "file_extension": ".py",
   "mimetype": "text/x-python",
   "name": "python",
   "nbconvert_exporter": "python",
   "pygments_lexer": "ipython3",
   "version": "3.7.1"
  }
 },
 "nbformat": 4,
 "nbformat_minor": 2
}
