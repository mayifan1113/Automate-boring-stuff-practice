{
 "cells": [
  {
   "cell_type": "code",
   "execution_count": 1,
   "metadata": {},
   "outputs": [
    {
     "data": {
      "text/plain": [
       "'AkAkAkAkAkAk'"
      ]
     },
     "execution_count": 1,
     "metadata": {},
     "output_type": "execute_result"
    }
   ],
   "source": [
    "'Ak'*  6"
   ]
  },
  {
   "cell_type": "code",
   "execution_count": 2,
   "metadata": {},
   "outputs": [
    {
     "name": "stdout",
     "output_type": "stream",
     "text": [
      "What is your name?\n",
      "yi\n",
      "It is good to meet you, yi\n",
      "The length of your name is: 2\n",
      "2\n",
      "What is your age?\n",
      "1\n",
      "You will be 2 in a year\n"
     ]
    }
   ],
   "source": [
    "print('What is your name?')\n",
    "myName = input()\n",
    "print('It is good to meet you, ' + myName)\n",
    "print('The length of your name is: ' + str(len(myName)))\n",
    "print(len(myName))\n",
    "print('What is your age?')\n",
    "myAge = input()\n",
    "print('You will be ' + str(int(myAge) + 1) + ' in a year')\n"
   ]
  },
  {
   "cell_type": "code",
   "execution_count": null,
   "metadata": {},
   "outputs": [
    {
     "name": "stdout",
     "output_type": "stream",
     "text": [
      "Please type your name\n"
     ]
    }
   ],
   "source": [
    "name=1\n",
    "while name != 'your name':\n",
    "    print('Please type your name')\n",
    "    name = input()\n",
    "print('thank you!')"
   ]
  },
  {
   "cell_type": "code",
   "execution_count": 4,
   "metadata": {},
   "outputs": [
    {
     "name": "stdout",
     "output_type": "stream",
     "text": [
      "please type your name\n",
      "1\n",
      "please type your name\n",
      "4\n",
      "please type your name\n",
      "hah\n",
      "please type your name\n",
      "your name\n",
      "thx\n"
     ]
    }
   ],
   "source": [
    "while True:\n",
    "    print('please type your name')\n",
    "    name =  input()\n",
    "    if name == 'your name':\n",
    "        break\n",
    "print('thx')\n",
    "    "
   ]
  },
  {
   "cell_type": "code",
   "execution_count": 1,
   "metadata": {},
   "outputs": [
    {
     "name": "stdout",
     "output_type": "stream",
     "text": [
      "Who are you?\n",
      "1\n",
      "Who are you?\n",
      "Joe\n",
      "Hello Joe, what is the password? (hint: it is a fish)\n",
      "J\n",
      "Who are you?\n",
      "Joe\n",
      "Hello Joe, what is the password? (hint: it is a fish)\n",
      "swordfish\n",
      "Access granted\n"
     ]
    }
   ],
   "source": [
    "while True:\n",
    "    print('Who are you?')\n",
    "    name =  input()\n",
    "    if name != 'Joe':\n",
    "        continue\n",
    "    print('Hello Joe, what is the password? (hint: it is a fish)')\n",
    "    password = input()\n",
    "    if password == 'swordfish':\n",
    "        break\n",
    "print('Access granted')"
   ]
  },
  {
   "cell_type": "code",
   "execution_count": 6,
   "metadata": {},
   "outputs": [
    {
     "name": "stdout",
     "output_type": "stream",
     "text": [
      "spam\n"
     ]
    }
   ],
   "source": [
    "def spam():\n",
    "    global eggs\n",
    "    eggs = 'spam'\n",
    "    \n",
    "def bacon():\n",
    "    eggs = 'bacon'\n",
    "    \n",
    "def ham():\n",
    "    print(eggs)\n",
    "    \n",
    "eggs = 42\n",
    "spam()\n",
    "ham()"
   ]
  },
  {
   "cell_type": "code",
   "execution_count": 1,
   "metadata": {},
   "outputs": [
    {
     "name": "stdout",
     "output_type": "stream",
     "text": [
      " I am thinking of a number between 1 and 20\n",
      "take a guess\n",
      "2\n",
      "good job!\n"
     ]
    }
   ],
   "source": [
    "#guess a number game\n",
    "import random\n",
    "answer = random.randint(1,20)\n",
    "print(' I am thinking of a number between 1 and 20')\n",
    " \n",
    "# ask player to guess 5 times\n",
    "for i in range(6):\n",
    "    print('take a guess')\n",
    "    guess = int(input())\n",
    "    \n",
    "    if guess > answer:\n",
    "        print('guess is too high')\n",
    "    elif guess < answer:\n",
    "        print('guess is too low')\n",
    "    else:\n",
    "        break\n",
    "if guess == answer:\n",
    "    print('good job!')\n",
    "else:\n",
    "    print('Nope')"
   ]
  },
  {
   "cell_type": "code",
   "execution_count": 13,
   "metadata": {},
   "outputs": [],
   "source": [
    "#practice 3.11.1\n",
    "def collatz(number):\n",
    "    if number % 2 == 0:\n",
    "        number = number//2\n",
    "        print(number)\n",
    "        return number\n",
    "    elif number % 2 == 1:\n",
    "        number = 3 * number + 1\n",
    "        print(number)\n",
    "        return number\n"
   ]
  },
  {
   "cell_type": "code",
   "execution_count": 16,
   "metadata": {},
   "outputs": [
    {
     "name": "stdout",
     "output_type": "stream",
     "text": [
      "3\n",
      "10\n",
      "5\n",
      "16\n",
      "8\n",
      "4\n",
      "2\n",
      "1\n",
      "yay! you did it!\n"
     ]
    }
   ],
   "source": [
    "number = int(input())\n",
    "while number != 1:\n",
    "    number = collatz(number)\n",
    "print('yay! you did it!')"
   ]
  },
  {
   "cell_type": "code",
   "execution_count": 29,
   "metadata": {},
   "outputs": [
    {
     "name": "stdout",
     "output_type": "stream",
     "text": [
      "4\n",
      "2\n",
      "1\n",
      "yay! you did it!\n"
     ]
    }
   ],
   "source": [
    "#practice 3.11.2 use try&except\n",
    "try:\n",
    "    number = int(input())\n",
    "    while number != 1:\n",
    "        number = collatz(number)\n",
    "    print('yay! you did it!')\n",
    "except ValueError:\n",
    "    print('try a integer again!')\n"
   ]
  },
  {
   "cell_type": "code",
   "execution_count": null,
   "metadata": {},
   "outputs": [],
   "source": []
  }
 ],
 "metadata": {
  "kernelspec": {
   "display_name": "Python 3",
   "language": "python",
   "name": "python3"
  },
  "language_info": {
   "codemirror_mode": {
    "name": "ipython",
    "version": 3
   },
   "file_extension": ".py",
   "mimetype": "text/x-python",
   "name": "python",
   "nbconvert_exporter": "python",
   "pygments_lexer": "ipython3",
   "version": "3.7.1"
  }
 },
 "nbformat": 4,
 "nbformat_minor": 2
}
